{
 "cells": [
  {
   "cell_type": "markdown",
   "metadata": {},
   "source": [
    "## Importing Libraries"
   ]
  },
  {
   "cell_type": "code",
   "execution_count": 21,
   "metadata": {
    "scrolled": true
   },
   "outputs": [],
   "source": [
    "from surprise import Dataset\n",
    "from surprise import Reader\n",
    "from surprise import NormalPredictor\n",
    "from surprise import SVD\n",
    "from surprise import AlgoBase\n",
    "from surprise.model_selection import train_test_split\n",
    "from surprise.prediction_algorithms import KNNBaseline\n",
    "from surprise.prediction_algorithms import KNNWithMeans\n",
    "from surprise.prediction_algorithms.co_clustering import CoClustering\n",
    "from surprise import accuracy\n",
    "from surprise.model_selection import train_test_split\n",
    "from surprise.prediction_algorithms.predictions import PredictionImpossible\n",
    "\n",
    "import pandas as pd\n",
    "\n",
    "from sklearn.metrics.pairwise import cosine_similarity\n",
    "\n",
    "import tensorflow as tf\n",
    "from tensorflow.contrib.layers import fully_connected\n",
    "\n",
    "import matplotlib.pyplot as plt\n",
    "%matplotlib inline\n",
    "\n",
    "import random\n",
    "import numpy as np\n",
    "\n",
    "import itertools\n",
    "\n",
    "from six import iteritems\n",
    "import heapq\n",
    "\n",
    "import timeit"
   ]
  },
  {
   "cell_type": "markdown",
   "metadata": {},
   "source": [
    "## Loading Data (MovieLens class)\n",
    "This class loads data as a surprise Dataset object. It also contains methods to get movie names by their Ids, get movie Ids by their names and  to get each users' rating and get each movie's rating datas."
   ]
  },
  {
   "cell_type": "code",
   "execution_count": 13,
   "metadata": {},
   "outputs": [],
   "source": [
    "class MovieLens:\n",
    "    \n",
    "    movieId_to_name = {}\n",
    "    name_to_movieId = {}\n",
    "    tag_data_file_path=\"Documents/auto_enc_rec/Data_Files/ml-20m/tags.csv\"\n",
    "    rating_data_file_path='Documents/auto_enc_rec/Data_Files/ml-20m/ratings.csv'\n",
    "    tags_df = pd.DataFrame()\n",
    "      \n",
    "    def filterData(self, keep_number=20000):\n",
    "        '''keeps movies with the max number of tag repeatitions'''\n",
    "        tags_data = pd.read_csv(self.tag_data_file_path)\n",
    "        \n",
    "        self.tags_df = tags_data.groupby(['movieId', 'tag']).size()\n",
    "        \n",
    "        self.tags_df = self.tags_df.sort_values(ascending=False)\n",
    "        self.tags_df = self.tags_df.head(keep_number)\n",
    "        \n",
    "        self.tags_df = self.tags_df.to_frame('freq')\n",
    "        \n",
    "        self.tags_df = self.tags_df.reset_index()\n",
    "        \n",
    "    \n",
    "    def findFilteredUsers(self):\n",
    "        '''keep users from rating_file that are similiar to users in tags_df'''\n",
    "        rate_df = pd.read_csv(self.rating_data_file_path)\n",
    "        \n",
    "        rate_df = rate_df[['userId', 'movieId', 'rating']]\n",
    "        \n",
    "        mask = rate_df.movieId.isin(self.tags_df.movieId) # Filtering....\n",
    "        rate_df = rate_df[mask]\n",
    "        \n",
    "        rate_df = rate_df.reset_index()\n",
    "        \n",
    "        rate_df = rate_df.drop(columns=['index']) # del old index column (we have two index columns now)\n",
    "        \n",
    "        return rate_df\n",
    "    \n",
    "    def loadData(self):\n",
    "        '''loads data as a surprise obj'''\n",
    "        self.rate_df = self.findFilteredUsers()\n",
    "        \n",
    "        # Loading data into a Surprise Dataset object\n",
    "        reader = Reader(rating_scale=(0.5, 5))\n",
    "        ratingsDataset = Dataset.load_from_df(self.rate_df[['userId', 'movieId', 'rating']], reader)\n",
    "        \n",
    "        df = pd.read_csv('movies.csv')\n",
    "        \n",
    "        for index, row in df.iterrows():\n",
    "            self.movieId_to_name[row['movieId']] = row['title']\n",
    "            self.name_to_movieId[row['title']] = row['movieId']\n",
    "            \n",
    "        self.user_num = self.rate_df.userId.unique().size\n",
    "        self.movie_num = self.tags_df.movieId.unique().size\n",
    "        self.tag_num = self.tags_df.tag.unique().size\n",
    "        \n",
    "        if (self.movie_num != self.rate_df.movieId.unique().size): # check to see if the same users exist in both-\n",
    "            print(\"Number of movies don't match\")             # rate_df (ratings data frame) and tags_df\n",
    "            return None\n",
    "        \n",
    "        print(\"The number of movies is: \" + str(self.movie_num))\n",
    "        print(\"The number of user is: \" + str(self.user_num))\n",
    "        print(\"The number of tags is: \" + str(self.tag_num))\n",
    "        \n",
    "        return ratingsDataset\n",
    "    \n",
    "    def getMovieName(self, movie_id):\n",
    "        '''returns movie Name. Id should be an int'''\n",
    "        if movie_id in self.movieId_to_name:\n",
    "            return self.movieId_to_name[movie_id]\n",
    "        else:\n",
    "            return 0\n",
    "\n",
    "    def getMovieId(self, movie_name):\n",
    "        '''returns movie Id. Name should be a string'''\n",
    "        if movie_name in self.name_to_movieId:\n",
    "            return self.name_to_movieId[movie_name]\n",
    "        else:\n",
    "            return 0\n",
    "        \n",
    "    def getUserRatings(self, userId):\n",
    "        '''return a list of tuples in the shape of (movieId, rating). UserId must be an int'''\n",
    "        user_ratings = []\n",
    "        \n",
    "        df = self.rate_df\n",
    "        \n",
    "        df_filter = df[df['userId'] == userId]\n",
    "        \n",
    "        for index, row in df_filter.iterrows():\n",
    "            movieId = int(row['movieId'])\n",
    "            rating = float(row['rating'])\n",
    "            user_ratings.append((movieId, rating))\n",
    "            \n",
    "        return user_ratings\n",
    "    \n",
    "    def getMovieRetings(self, movieId):\n",
    "        '''return a list of tuples in the shape of (userId, rating). movieId must be an int'''\n",
    "        movie_ratings = []\n",
    "        \n",
    "        df = self.rate_df\n",
    "    \n",
    "        df_filter = df[df['movieId'] == movieId]\n",
    "        \n",
    "        for index, row in df_filter.iterrows():\n",
    "            userId = int(row['userId'])\n",
    "            rating = float(row['rating'])\n",
    "            movie_ratings.append((userId, rating))\n",
    "            \n",
    "        return movie_ratings\n",
    "    \n",
    "    def getMovieTags(self, movieId):\n",
    "        print(\"return Movie tags\")\n",
    "        \n",
    "    def getUserTags(self, userId):\n",
    "        print(\"return User Tags\")\n",
    "        \n",
    "    def getTfidf(self):\n",
    "        '''return tf-idf matrix'''\n",
    "        df = self.tags_df\n",
    "        \n",
    "        pivot_df = df.pivot(index='movieId', columns='tag', values='freq').fillna(0) \n",
    "        \n",
    "        self.movie_index_list = pivot_df.index.tolist() # this index list is going to be used after profiles are represented \n",
    "        \n",
    "        pivot_np = np.array(pivot_df)\n",
    "        \n",
    "        tag_sum = np.sum(pivot_np, axis=1)\n",
    "        tag_sum = tag_sum.reshape(pivot_np.shape[0], 1)\n",
    "        tf = pivot_np / tag_sum\n",
    "\n",
    "        one_pivot = pivot_np\n",
    "        one_pivot[pivot_np > 1] = 1\n",
    "        \n",
    "        doc_sum = np.sum(one_pivot, axis=0)\n",
    "        doc_sum = doc_sum.reshape(1, pivot_np.shape[1])\n",
    "        idf = np.log(one_pivot.shape[0] / doc_sum)\n",
    "        \n",
    "        tf_idf = tf * idf\n",
    "        \n",
    "        return tf_idf\n",
    "    \n",
    "    def getMovieNum(self):\n",
    "        '''Returns the number of movies in the data set'''\n",
    "        return self.movie_num\n",
    "    \n",
    "    def getUserNum(self):\n",
    "        '''Returns the number of users in the data set'''\n",
    "        return self.user_num\n",
    "    \n",
    "    def getTagNum(self):\n",
    "        '''Returns the number of tags in the data set'''\n",
    "        return self.tag_num"
   ]
  },
  {
   "cell_type": "markdown",
   "metadata": {},
   "source": [
    "## Sparse_auto_enc Class\n",
    "This class trains a sparse auto-encoder nn. Because stacked training is used to train deep autoencoders, this same class can be used for the training of deep networks with the values of first hidden layer as its inputs.\n",
    "\n",
    "Error function is as follows:\n",
    "\\begin{equation*}\n",
    "error = (1/2m) \\sum_{i=1}^{i=m} \\left \\|y^{i} - \\hat{y}^{i} \\right \\|^2 + \\beta * P\n",
    "\\end{equation*}\n",
    "\\begin{equation*}\n",
    "P = \\sum_{j=1}^{j=n} D_{KL}(\\rho || \\bar{\\rho})\n",
    "\\end{equation*}\n",
    "\\begin{equation*}\n",
    "D_{KL}(\\rho || \\bar{\\rho}) = \\rho log(\\rho / \\hat{\\rho_{j}}) + (1-\\rho)log[(1-\\rho)/(1-\\hat{\\rho_{j}})]\n",
    "\\end{equation*}\n",
    "\\begin{equation*}\n",
    "\\hat{\\rho}_{j} = (1/m) * \\sum_{i=1}^{i=m}a_{i}^{1}\n",
    "\\end{equation*}"
   ]
  },
  {
   "cell_type": "code",
   "execution_count": 3,
   "metadata": {},
   "outputs": [],
   "source": [
    "class spares_auto_enc:\n",
    "    \n",
    "    def __init__(self, data, hidden_dim=1000, beta=3):\n",
    "        '''hidden_dim is the dimmension of the hidden layer and beta is the weight of KL-Divergence'''\n",
    "        self.data = data\n",
    "        self.hidden_dim = hidden_dim\n",
    "        self.beta = beta\n",
    "        \n",
    "    def makeGraph(self):\n",
    "        '''Makes the network graph'''\n",
    "        input_dim = np.size(self.data, 1)\n",
    "        output_dim = input_dim\n",
    "        \n",
    "        self.X = tf.placeholder(tf.float32, shape=[None, input_dim])\n",
    "        \n",
    "        self.a1 = fully_connected(self.X, self.hidden_dim)\n",
    "        self.a2 = fully_connected(self.a1, output_dim)\n",
    "    \n",
    "    def computeError(self):\n",
    "        rho = 0.1\n",
    "        \n",
    "        self.makeGraph()\n",
    "        \n",
    "        # compute mean square error\n",
    "        norms = tf.reduce_sum(tf.square(self.a2-self.X), axis=1)\n",
    "        rmse = tf.reduce_mean(norms)\n",
    "        c_rmse = 0.5 * rmse\n",
    "        \n",
    "        # kullback leibler divergence error\n",
    "        rho_bar = tf.reduce_mean(self.a1, axis=0)\n",
    "        d_kl = rho * tf.log(rho/tf.abs(rho_bar)) + (1-rho) * tf.log((1-rho) / tf.abs(1-rho_bar))\n",
    "        p = tf.reduce_sum(d_kl)\n",
    "\n",
    "        # compute training error\n",
    "        self.train_error = c_rmse + self.beta*p\n",
    "\n",
    "        # compute root mean sqaure error\n",
    "        self.rmse = tf.sqrt(tf.reduce_mean(norms))\n",
    "            \n",
    "            \n",
    "        \n",
    "    def train(self, learning_rate=0.001, epochs=400, full_batch=True, batch_size=100):\n",
    "        \n",
    "        optimizer = tf.train.AdamOptimizer(learning_rate=learning_rate)\n",
    "        train_error = self.computeError()\n",
    "        train = optimizer.minimize(self.train_error)\n",
    "        \n",
    "        init = tf.global_variables_initializer()\n",
    "        \n",
    "        self.sess = tf.Session()\n",
    "        \n",
    "        self.sess.run(init)\n",
    "        \n",
    "        print(\"Training Started\")\n",
    "        \n",
    "        err_list = []\n",
    "        epoch_list = []\n",
    "        \n",
    "        for epoch in range(epochs):\n",
    "        \n",
    "            self.sess.run(train, feed_dict={self.X: self.data})\n",
    "            error = self.sess.run(self.train_error, feed_dict={self.X: self.data})\n",
    "\n",
    "            if epoch % 10 == 0:\n",
    "                print (\"\\nepoch no: \" + str(epoch))\n",
    "                print(\"error value: \" + str(error))\n",
    "\n",
    "            if (error < 50):\n",
    "                err_list.append(error)\n",
    "                epoch_list.append(epoch)\n",
    "                \n",
    "            if(epoch == epochs-1):\n",
    "                print(\"\\nFinal Training Error Equals: \" + str(error))\n",
    "            \n",
    "        print(\"\\nTrainig Finished\")\n",
    "        \n",
    "        plt.scatter(x=epoch_list, y=err_list ,marker='*')\n",
    "        plt.plot(epoch_list, err_list)\n",
    "        plt.xlabel(\"Epoch\")\n",
    "        plt.ylabel(\"Training Error Value\")\n",
    "        \n",
    "    \n",
    "    def encode(self, input_data):\n",
    "        return self.sess.run(self.a1, feed_dict={self.X: input_data})\n"
   ]
  },
  {
   "cell_type": "code",
   "execution_count": 4,
   "metadata": {},
   "outputs": [],
   "source": [
    "class similiarity:\n",
    "    \n",
    "    def __init__(self, input_mat):\n",
    "        self.input_mat = input_mat\n",
    "        \n",
    "    def compute_sim(self):\n",
    "        return cosine_similarity(self.input_mat)\n",
    "    \n",
    "    def build_sim_df(self, index):\n",
    "        sim_mat = self.compute_sim()\n",
    "        df = pd.DataFrame(data = sim_mat, index=index, columns=index)\n",
    "        return df\n",
    "        "
   ]
  },
  {
   "cell_type": "markdown",
   "metadata": {},
   "source": [
    "## SparseAutoRecAlgorithm\n",
    "This class is inherited form the Surprise AlgoBase class."
   ]
  },
  {
   "cell_type": "code",
   "execution_count": 18,
   "metadata": {},
   "outputs": [],
   "source": [
    "class SparseAutoRecAlgorithm(AlgoBase):\n",
    "    \n",
    "    def __init__(self, m, k=40, min_k=1):\n",
    "        AlgoBase.__init__(self) # AlgoBase base class\n",
    "        self.m = m\n",
    "        self.test_count = 0\n",
    "        self.k = k\n",
    "        self.min_k = min_k\n",
    "        self.test_count = 0\n",
    "        \n",
    "    def round_of_rating(self, rate):\n",
    "        '''Estimated rating is rounded to nearest 0.5'''\n",
    "        if rate <= 0.5:\n",
    "            return 0.5\n",
    "        elif rate >= 5:\n",
    "            return 5\n",
    "        else:\n",
    "            return round(rate * 2) / 2\n",
    "        \n",
    "        \n",
    "    def fit(self, trainset):\n",
    "        AlgoBase.fit(self, trainset) # AlgoBase base class\n",
    " \n",
    "        tf_idf = self.m.getTfidf()\n",
    "        \n",
    "        sp_model = spares_auto_enc(tf_idf)\n",
    "        sp_model.train(epochs=100)\n",
    "        encoded_data = sp_model.encode(tf_idf)\n",
    "        \n",
    "        sim = similiarity(encoded_data)\n",
    "        self.sim_df = sim.build_sim_df(self.m.movie_index_list)\n",
    "        \n",
    "        self.n_x = self.trainset.n_items\n",
    "        self.n_y = self.trainset.n_users\n",
    "        self.xr = self.trainset.ir\n",
    "        self.yr = self.trainset.ur\n",
    "        \n",
    "        self.means = np.zeros(self.n_x)\n",
    "        for x, ratings in iteritems(self.xr):\n",
    "            self.means[x] = np.mean([r for (_, r) in ratings])\n",
    "        \n",
    "        return self\n",
    "    \n",
    "    def estimate(self, iuid, iiid):\n",
    "        \n",
    "        x = iiid # These are internal ids \n",
    "        y = iuid # These are internal ids \n",
    "        \n",
    "        self.test_count = self.test_count + 1 # count the number of teseted examples\n",
    "        \n",
    "        if self.test_count % 100000 == 0:\n",
    "            print(\"\\ntest_count is: \" + str(self.test_count))\n",
    "            \n",
    "        # convert internal ids to raw ids\n",
    "        iid = self.trainset.to_raw_iid(iiid)\n",
    "        uid = self.trainset.to_raw_uid(iuid)\n",
    "        \n",
    "        if not (self.trainset.knows_user(iuid) and self.trainset.knows_item(iiid)):\n",
    "            raise PredictionImpossible('User and/or item is unkown.')\n",
    "\n",
    "        neighbors = []\n",
    "        for (x2, r) in self.yr[y]:\n",
    "            x2_raw_id = self.trainset.to_raw_iid(x2)\n",
    "            sim = self.sim_df.at[int(iid), int(x2_raw_id)]\n",
    "            neighbors.append((x2, sim , r))\n",
    "                             \n",
    "        k_neighbors = heapq.nlargest(self.k, neighbors, key=lambda t: t[1])\n",
    "        \n",
    "        est = self.means[x]\n",
    "\n",
    "        # compute weighted average\n",
    "        sum_sim = sum_ratings = actual_k = 0\n",
    "        for (nb, sim, r) in k_neighbors:\n",
    "            if sim > 0:\n",
    "                sum_sim += sim\n",
    "                sum_ratings += sim * (r - self.means[nb])\n",
    "                actual_k += 1\n",
    "\n",
    "        if actual_k < self.min_k:\n",
    "            sum_ratings = 0\n",
    "\n",
    "        try:\n",
    "            est += sum_ratings / sum_sim\n",
    "        except ZeroDivisionError:\n",
    "            pass  # return mean\n",
    "\n",
    "      #  details = {'actual_k': actual_k}\n",
    "        return est   \n",
    "        "
   ]
  },
  {
   "cell_type": "markdown",
   "metadata": {},
   "source": [
    "## Experiment 1: Computing the RMSE\n",
    "In this experiment 20% of the whole data (nearly 15 milion user-ratings) is used as test data to compute the rmse of the proposed algorithm. This experiment takes some time to be done. The computed rmse equals 0.8622."
   ]
  },
  {
   "cell_type": "code",
   "execution_count": 6,
   "metadata": {},
   "outputs": [],
   "source": [
    "m = MovieLens()"
   ]
  },
  {
   "cell_type": "code",
   "execution_count": 7,
   "metadata": {},
   "outputs": [],
   "source": [
    "m.filterData()"
   ]
  },
  {
   "cell_type": "code",
   "execution_count": 8,
   "metadata": {},
   "outputs": [
    {
     "name": "stdout",
     "output_type": "stream",
     "text": [
      "The number of movies is: 3312\n",
      "The number of user is: 138493\n",
      "The number of tags is: 3898\n"
     ]
    }
   ],
   "source": [
    "data = m.loadData()"
   ]
  },
  {
   "cell_type": "code",
   "execution_count": 11,
   "metadata": {},
   "outputs": [],
   "source": [
    "trainSet, testSet = train_test_split(data, test_size=.2, random_state=1)"
   ]
  },
  {
   "cell_type": "code",
   "execution_count": 12,
   "metadata": {},
   "outputs": [],
   "source": [
    "algo = SparseAutoRecAlgorithm(m)\n"
   ]
  },
  {
   "cell_type": "code",
   "execution_count": 13,
   "metadata": {},
   "outputs": [
    {
     "name": "stdout",
     "output_type": "stream",
     "text": [
      "Training Started\n",
      "\n",
      "epoch no: 0\n",
      "error value: 150.373\n",
      "\n",
      "epoch no: 10\n",
      "error value: 21.5651\n",
      "\n",
      "epoch no: 20\n",
      "error value: 7.03892\n",
      "\n",
      "epoch no: 30\n",
      "error value: 9.1895\n",
      "\n",
      "epoch no: 40\n",
      "error value: 6.3864\n",
      "\n",
      "epoch no: 50\n",
      "error value: 5.3175\n",
      "\n",
      "epoch no: 60\n",
      "error value: 5.33148\n",
      "\n",
      "epoch no: 70\n",
      "error value: 5.17112\n",
      "\n",
      "epoch no: 80\n",
      "error value: 5.12013\n",
      "\n",
      "epoch no: 90\n",
      "error value: 5.11186\n",
      "\n",
      "Final Training Error Equals: 5.10044\n",
      "\n",
      "Trainig Finished\n"
     ]
    },
    {
     "data": {
      "text/plain": [
       "<__main__.SparseAutoRecAlgorithm at 0x2398e6053c8>"
      ]
     },
     "execution_count": 13,
     "metadata": {},
     "output_type": "execute_result"
    },
    {
     "data": {
      "image/png": "[encoded data removed]",
      "text/plain": [
       "<matplotlib.figure.Figure at 0x2398e5e4da0>"
      ]
     },
     "metadata": {
      "needs_background": "light"
     },
     "output_type": "display_data"
    }
   ],
   "source": [
    "algo.fit(trainSet)\n"
   ]
  },
  {
   "cell_type": "code",
   "execution_count": 14,
   "metadata": {},
   "outputs": [
    {
     "name": "stdout",
     "output_type": "stream",
     "text": [
      "\n",
      "test_count is: 100000\n",
      "\n",
      "test_count is: 200000\n",
      "\n",
      "test_count is: 300000\n",
      "\n",
      "test_count is: 400000\n",
      "\n",
      "test_count is: 500000\n",
      "\n",
      "test_count is: 600000\n",
      "\n",
      "test_count is: 700000\n",
      "\n",
      "test_count is: 800000\n",
      "\n",
      "test_count is: 900000\n",
      "\n",
      "test_count is: 1000000\n",
      "\n",
      "test_count is: 1100000\n",
      "\n",
      "test_count is: 1200000\n",
      "\n",
      "test_count is: 1300000\n",
      "\n",
      "test_count is: 1400000\n",
      "\n",
      "test_count is: 1500000\n",
      "\n",
      "test_count is: 1600000\n",
      "\n",
      "test_count is: 1700000\n",
      "\n",
      "test_count is: 1800000\n",
      "\n",
      "test_count is: 1900000\n",
      "\n",
      "test_count is: 2000000\n",
      "\n",
      "test_count is: 2100000\n",
      "\n",
      "test_count is: 2200000\n",
      "\n",
      "test_count is: 2300000\n",
      "\n",
      "test_count is: 2400000\n",
      "\n",
      "test_count is: 2500000\n",
      "\n",
      "test_count is: 2600000\n",
      "\n",
      "test_count is: 2700000\n",
      "\n",
      "test_count is: 2800000\n",
      "\n",
      "test_count is: 2900000\n",
      "\n",
      "test_count is: 3000000\n",
      "\n",
      "test_count is: 3100000\n"
     ]
    }
   ],
   "source": [
    "predictions = algo.test(testSet)"
   ]
  },
  {
   "cell_type": "code",
   "execution_count": 15,
   "metadata": {},
   "outputs": [
    {
     "name": "stdout",
     "output_type": "stream",
     "text": [
      "RMSE: 0.8622\n"
     ]
    }
   ],
   "source": [
    "rmse = accuracy.rmse(predictions, verbose=True)"
   ]
  },
  {
   "cell_type": "markdown",
   "metadata": {},
   "source": [
    "## Experiment2: Comparision with some benchmark algorithms\n",
    "you can find a comparison between rmse and ame of benchmark algorithms at http://surpriselib.com/. To reduce the time needed for computation 20000 user-ratings have been selected for the test data."
   ]
  },
  {
   "cell_type": "code",
   "execution_count": 90,
   "metadata": {},
   "outputs": [],
   "source": [
    "result_list = []"
   ]
  },
  {
   "cell_type": "code",
   "execution_count": 14,
   "metadata": {},
   "outputs": [],
   "source": [
    "m1 = MovieLens()"
   ]
  },
  {
   "cell_type": "code",
   "execution_count": 15,
   "metadata": {},
   "outputs": [],
   "source": [
    "m1.filterData()"
   ]
  },
  {
   "cell_type": "code",
   "execution_count": 16,
   "metadata": {},
   "outputs": [
    {
     "name": "stdout",
     "output_type": "stream",
     "text": [
      "The number of movies is: 3312\n",
      "The number of user is: 138493\n",
      "The number of tags is: 3898\n"
     ]
    }
   ],
   "source": [
    "data = m1.loadData()"
   ]
  },
  {
   "cell_type": "code",
   "execution_count": 17,
   "metadata": {},
   "outputs": [],
   "source": [
    "trainSet, testSet = train_test_split(data, test_size=20000, random_state=1)"
   ]
  },
  {
   "cell_type": "markdown",
   "metadata": {},
   "source": [
    "### Tag Similiarity Based Sparse Auto-encoder Recommender System"
   ]
  },
  {
   "cell_type": "code",
   "execution_count": 22,
   "metadata": {},
   "outputs": [
    {
     "name": "stdout",
     "output_type": "stream",
     "text": [
      "Training Started\n",
      "\n",
      "epoch no: 0\n",
      "error value: 151.281\n",
      "\n",
      "epoch no: 10\n",
      "error value: 21.8418\n",
      "\n",
      "epoch no: 20\n",
      "error value: 6.95526\n",
      "\n",
      "epoch no: 30\n",
      "error value: 9.09155\n",
      "\n",
      "epoch no: 40\n",
      "error value: 6.28157\n",
      "\n",
      "epoch no: 50\n",
      "error value: 5.17897\n",
      "\n",
      "epoch no: 60\n",
      "error value: 5.17816\n",
      "\n",
      "epoch no: 70\n",
      "error value: 5.01184\n",
      "\n",
      "epoch no: 80\n",
      "error value: 4.95527\n",
      "\n",
      "epoch no: 90\n",
      "error value: 4.94441\n",
      "\n",
      "Final Training Error Equals: 4.93166\n",
      "\n",
      "Trainig Finished\n"
     ]
    },
    {
     "data": {
      "image/png": "[encoded data removed]",
      "text/plain": [
       "<matplotlib.figure.Figure at 0x285513f0780>"
      ]
     },
     "metadata": {
      "needs_background": "light"
     },
     "output_type": "display_data"
    }
   ],
   "source": [
    "start_time = timeit.default_timer()\n",
    "sparse_auto_enc_algo = SparseAutoRecAlgorithm(m1)\n",
    "predictions_sparse_auto_enc = sparse_auto_enc_algo.fit(trainSet).test(testSet)\n",
    "auto_enc_elapsed = timeit.default_timer() - start_time"
   ]
  },
  {
   "cell_type": "code",
   "execution_count": 24,
   "metadata": {},
   "outputs": [
    {
     "name": "stdout",
     "output_type": "stream",
     "text": [
      "RMSE: 0.8558\n",
      "MAE:  0.6584\n"
     ]
    }
   ],
   "source": [
    "auto_enc_rmse = accuracy.rmse(predictions_sparse_auto_enc, verbose=True)\n",
    "auto_enc_mae = accuracy.mae(predictions_sparse_auto_enc, verbose=True)"
   ]
  },
  {
   "cell_type": "code",
   "execution_count": 91,
   "metadata": {},
   "outputs": [],
   "source": [
    "result_list.append([auto_enc_rmse, auto_enc_mae, auto_enc_elapsed])"
   ]
  },
  {
   "cell_type": "markdown",
   "metadata": {},
   "source": [
    "### Item-based KNN Collaborative Filtering"
   ]
  },
  {
   "cell_type": "code",
   "execution_count": 26,
   "metadata": {},
   "outputs": [],
   "source": [
    "ItemKNN = KNNWithMeans(sim_options = {'name': 'cosine', 'user_based': False})"
   ]
  },
  {
   "cell_type": "code",
   "execution_count": 27,
   "metadata": {},
   "outputs": [
    {
     "name": "stdout",
     "output_type": "stream",
     "text": [
      "Computing the cosine similarity matrix...\n",
      "Done computing similarity matrix.\n"
     ]
    }
   ],
   "source": [
    "start_time = timeit.default_timer()\n",
    "predictions_item_knn = ItemKNN.fit(trainSet).test(testSet)\n",
    "item_knn_elapsed = timeit.default_timer() - start_time"
   ]
  },
  {
   "cell_type": "code",
   "execution_count": 29,
   "metadata": {},
   "outputs": [
    {
     "name": "stdout",
     "output_type": "stream",
     "text": [
      "RMSE: 0.8080\n",
      "MAE:  0.6170\n"
     ]
    }
   ],
   "source": [
    "item_knn_rmse = accuracy.rmse(predictions_item_knn, verbose=True)\n",
    "item_knn_mae = accuracy.mae(predictions_item_knn, verbose=True)"
   ]
  },
  {
   "cell_type": "code",
   "execution_count": 92,
   "metadata": {},
   "outputs": [],
   "source": [
    "result_list.append([item_knn_rmse, item_knn_mae, item_knn_elapsed])"
   ]
  },
  {
   "cell_type": "markdown",
   "metadata": {},
   "source": [
    "### SVD"
   ]
  },
  {
   "cell_type": "code",
   "execution_count": 32,
   "metadata": {},
   "outputs": [],
   "source": [
    "svd_algo = SVD()"
   ]
  },
  {
   "cell_type": "code",
   "execution_count": 33,
   "metadata": {},
   "outputs": [],
   "source": [
    "start_time = timeit.default_timer()\n",
    "predictions_svd = svd_algo.fit(trainSet).test(testSet)\n",
    "svd_elapsed = timeit.default_timer() - start_time"
   ]
  },
  {
   "cell_type": "code",
   "execution_count": 34,
   "metadata": {},
   "outputs": [
    {
     "name": "stdout",
     "output_type": "stream",
     "text": [
      "RMSE: 0.7655\n",
      "MAE:  0.5819\n"
     ]
    }
   ],
   "source": [
    "svd_rmse = accuracy.rmse(predictions_svd, verbose=True)\n",
    "svd_mae = accuracy.mae(predictions_svd, verbose=True)"
   ]
  },
  {
   "cell_type": "code",
   "execution_count": 93,
   "metadata": {},
   "outputs": [],
   "source": [
    "result_list.append([svd_rmse, svd_mae, svd_elapsed])"
   ]
  },
  {
   "cell_type": "markdown",
   "metadata": {},
   "source": [
    "### Co Clustering"
   ]
  },
  {
   "cell_type": "code",
   "execution_count": 39,
   "metadata": {},
   "outputs": [],
   "source": [
    "co_clust_alg = CoClustering()"
   ]
  },
  {
   "cell_type": "code",
   "execution_count": 41,
   "metadata": {},
   "outputs": [],
   "source": [
    "start_time = timeit.default_timer()\n",
    "predictions_clust = co_clust_alg.fit(trainSet).test(testSet)\n",
    "clust_elapsed = timeit.default_timer() - start_time"
   ]
  },
  {
   "cell_type": "code",
   "execution_count": 42,
   "metadata": {
    "scrolled": true
   },
   "outputs": [
    {
     "name": "stdout",
     "output_type": "stream",
     "text": [
      "RMSE: 0.8636\n",
      "MAE:  0.6775\n"
     ]
    }
   ],
   "source": [
    "clust_rmse = accuracy.rmse(predictions_clust, verbose=True)\n",
    "clust_mae = accuracy.mae(predictions_clust, verbose=True)"
   ]
  },
  {
   "cell_type": "code",
   "execution_count": 94,
   "metadata": {},
   "outputs": [],
   "source": [
    "result_list.append([clust_rmse, clust_mae, clust_elapsed])"
   ]
  },
  {
   "cell_type": "markdown",
   "metadata": {},
   "source": [
    "### Random"
   ]
  },
  {
   "cell_type": "code",
   "execution_count": 45,
   "metadata": {},
   "outputs": [],
   "source": [
    "rand_alg = NormalPredictor()\n",
    "start_time = timeit.default_timer()\n",
    "predictions_rand = rand_alg.fit(trainSet).test(testSet)\n",
    "rand_elapsed = timeit.default_timer() - start_time"
   ]
  },
  {
   "cell_type": "code",
   "execution_count": 65,
   "metadata": {},
   "outputs": [
    {
     "name": "stdout",
     "output_type": "stream",
     "text": [
      "RMSE: 1.3894\n",
      "MAE:  1.1055\n"
     ]
    }
   ],
   "source": [
    "rand_rmse = accuracy.rmse(predictions_rand, verbose=True)\n",
    "rand_mae = accuracy.mae(predictions_rand, verbose=True)"
   ]
  },
  {
   "cell_type": "code",
   "execution_count": 95,
   "metadata": {},
   "outputs": [],
   "source": [
    "result_list.append([rand_rmse, rand_mse, rand_elapsed])\n",
    "result_list = [[round(rmse, 3), round(mse, 3), round(time)] for rmse, mse, time in result_list ]"
   ]
  },
  {
   "cell_type": "markdown",
   "metadata": {},
   "source": [
    "### Experiment results for rating prediction of 20000 (user, item) pairs with different algorithms are as follows:"
   ]
  },
  {
   "cell_type": "code",
   "execution_count": 122,
   "metadata": {},
   "outputs": [
    {
     "data": {
      "text/html": [
       "<div>\n",
       "<style scoped>\n",
       "    .dataframe tbody tr th:only-of-type {\n",
       "        vertical-align: middle;\n",
       "    }\n",
       "\n",
       "    .dataframe tbody tr th {\n",
       "        vertical-align: top;\n",
       "    }\n",
       "\n",
       "    .dataframe thead th {\n",
       "        text-align: right;\n",
       "    }\n",
       "</style>\n",
       "<table border=\"1\" class=\"dataframe\">\n",
       "  <thead>\n",
       "    <tr style=\"text-align: right;\">\n",
       "      <th></th>\n",
       "      <th>RMSE</th>\n",
       "      <th>MSE</th>\n",
       "      <th>Run Time in Seconds</th>\n",
       "    </tr>\n",
       "  </thead>\n",
       "  <tbody>\n",
       "    <tr>\n",
       "      <th>Tag Based Sparce Auto-encoder</th>\n",
       "      <td>0.856</td>\n",
       "      <td>0.658</td>\n",
       "      <td>369</td>\n",
       "    </tr>\n",
       "    <tr>\n",
       "      <th>Item based CF KNN with Means</th>\n",
       "      <td>0.808</td>\n",
       "      <td>0.617</td>\n",
       "      <td>1179</td>\n",
       "    </tr>\n",
       "    <tr>\n",
       "      <th>Singular Value Decomposition</th>\n",
       "      <td>0.765</td>\n",
       "      <td>0.582</td>\n",
       "      <td>999</td>\n",
       "    </tr>\n",
       "    <tr>\n",
       "      <th>Co-Clustering</th>\n",
       "      <td>0.864</td>\n",
       "      <td>0.678</td>\n",
       "      <td>571</td>\n",
       "    </tr>\n",
       "    <tr>\n",
       "      <th>Random Recommendation</th>\n",
       "      <td>1.389</td>\n",
       "      <td>1.106</td>\n",
       "      <td>14</td>\n",
       "    </tr>\n",
       "  </tbody>\n",
       "</table>\n",
       "</div>"
      ],
      "text/plain": [
       "                                RMSE    MSE  Run Time in Seconds\n",
       "Tag Based Sparce Auto-encoder  0.856  0.658                  369\n",
       "Item based CF KNN with Means   0.808  0.617                 1179\n",
       "Singular Value Decomposition   0.765  0.582                  999\n",
       "Co-Clustering                  0.864  0.678                  571\n",
       "Random Recommendation          1.389  1.106                   14"
      ]
     },
     "execution_count": 122,
     "metadata": {},
     "output_type": "execute_result"
    }
   ],
   "source": [
    "resuls_df = pd.DataFrame(data=result_list, index=['Tag Based Sparce Auto-encoder', 'Item based CF KNN with Means', 'Singular Value Decomposition', 'Co-Clustering', 'Random Recommendation'], columns=['RMSE', 'MSE', 'Run Time in Seconds'])\n",
    "resuls_df"
   ]
  },
  {
   "cell_type": "code",
   "execution_count": 126,
   "metadata": {},
   "outputs": [
    {
     "data": {
      "text/plain": [
       "<matplotlib.text.Text at 0x28555587da0>"
      ]
     },
     "execution_count": 126,
     "metadata": {},
     "output_type": "execute_result"
    },
    {
     "data": {
      "image/png": "[encoded data removed]",
      "text/plain": [
       "<matplotlib.figure.Figure at 0x285555388d0>"
      ]
     },
     "metadata": {
      "needs_background": "light"
     },
     "output_type": "display_data"
    },
    {
     "data": {
      "image/png": "[encoded data removed]",
      "text/plain": [
       "<matplotlib.figure.Figure at 0x28555538d30>"
      ]
     },
     "metadata": {
      "needs_background": "light"
     },
     "output_type": "display_data"
    }
   ],
   "source": [
    "new_df = resuls_df.reset_index()\n",
    "rmse_plot = new_df.plot(x = 'index', y = 'RMSE', kind='bar', title='RMSE')\n",
    "rmse_plot.set_xlabel('Algorithm')\n",
    "rmse_plot.set_ylabel('Root Mean Square Error')\n",
    "time_plot = new_df.plot(x = 'index', y = 'Run Time in Seconds', kind='bar', title='Time')\n",
    "time_plot.set_xlabel('Algorithms')\n",
    "time_plot.set_ylabel('Time in Second')"
   ]
  },
  {
   "cell_type": "markdown",
   "metadata": {},
   "source": [
    "### Discussion:\n",
    "As you can see above the proposed algorithm outperforms all other algorithms in the run-time and also yields a RMSE error better than Co-Clustering and very close to item-based CF with Means. It seems like tf-idf has been an appropriate feature to compute the similarity between items and sparse auto encoder has done a great job in making a good representation of these features. Also because the dimension of the extracted features space is less than the dimension of the items space (nearly one third), therefore making and searching of the similarity matrix takes much less time and this has a very significant impact on the speed of fitting to train data and estimation of the rating for the test data."
   ]
  }
 ],
 "metadata": {
  "kernelspec": {
   "display_name": "Python 3",
   "language": "python",
   "name": "python3"
  },
  "language_info": {
   "codemirror_mode": {
    "name": "ipython",
    "version": 3
   },
   "file_extension": ".py",
   "mimetype": "text/x-python",
   "name": "python",
   "nbconvert_exporter": "python",
   "pygments_lexer": "ipython3",
   "version": "3.6.7"
  }
 },
 "nbformat": 4,
 "nbformat_minor": 2
}
